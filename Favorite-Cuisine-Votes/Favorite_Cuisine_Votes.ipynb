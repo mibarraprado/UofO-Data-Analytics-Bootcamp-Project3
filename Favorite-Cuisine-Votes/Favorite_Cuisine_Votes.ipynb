{
 "cells": [
  {
   "cell_type": "code",
   "execution_count": 58,
   "id": "05e4eaab",
   "metadata": {},
   "outputs": [],
   "source": [
    "# Dependencies\n",
    "# ----------------------------------\n",
    "from sqlalchemy import create_engine, inspect\n",
    "from sqlalchemy.ext.declarative import declarative_base\n",
    "Base = declarative_base()"
   ]
  },
  {
   "cell_type": "code",
   "execution_count": 59,
   "id": "195fe810",
   "metadata": {},
   "outputs": [],
   "source": [
    "from sqlalchemy import Column, Integer, String, Float"
   ]
  },
  {
   "cell_type": "code",
   "execution_count": 60,
   "id": "28edf157",
   "metadata": {},
   "outputs": [],
   "source": [
    "# Create class\n",
    "# ----------------------------------\n",
    "class Restaurant_Types(Base):\n",
    "    __tablename__ = 'Favorite_Cuisines'\n",
    "    id = Column(Integer, primary_key=True)\n",
    "    restaurant_type = Column(String(255))\n",
    "    votes_cast = Column(Integer)"
   ]
  },
  {
   "cell_type": "code",
   "execution_count": 61,
   "id": "232f63f6",
   "metadata": {},
   "outputs": [],
   "source": [
    "# Create Database Connection\n",
    "# ----------------------------------\n",
    "# Establish Connection\n",
    "engine = create_engine(\"sqlite:///votes.sqlite\")\n",
    "conn = engine.connect()"
   ]
  },
  {
   "cell_type": "code",
   "execution_count": 62,
   "id": "11a02215",
   "metadata": {},
   "outputs": [],
   "source": [
    "# Create a \"Metadata\" Layer That Abstracts our SQL Database\n",
    "# ----------------------------------\n",
    "# Base.metadata.create_all(engine)\n",
    "\n",
    "# Use this to clear out the db\n",
    "# ----------------------------------\n",
    "# Base.metadata.drop_all(engine)\n",
    "\n",
    "# with engine.begin() as connection:\n",
    "#     connection.execute(f'ALTER TABLE \"Favorite Cuisines\" RENAME TO {\"Favorite_Cuisines\"}')\n"
   ]
  },
  {
   "cell_type": "code",
   "execution_count": 66,
   "id": "634f6dfc",
   "metadata": {},
   "outputs": [
    {
     "data": {
      "text/plain": [
       "['Favorite_Cuisines']"
      ]
     },
     "execution_count": 66,
     "metadata": {},
     "output_type": "execute_result"
    }
   ],
   "source": [
    "# Create a Session Object to Connect to DB\n",
    "# ----------------------------------\n",
    "from sqlalchemy.orm import Session\n",
    "session = Session(bind=engine)\n",
    "ins = inspect(engine)\n",
    "ins.get_table_names()"
   ]
  },
  {
   "cell_type": "code",
   "execution_count": 75,
   "id": "6019a92a",
   "metadata": {},
   "outputs": [],
   "source": [
    "session.add(Restaurant_Types(\n",
    "    restaurant_type = \"italian\",\n",
    "    votes_cast = 0))"
   ]
  },
  {
   "cell_type": "code",
   "execution_count": 77,
   "id": "f1f8239b",
   "metadata": {},
   "outputs": [
    {
     "name": "stdout",
     "output_type": "stream",
     "text": [
      "thai\n",
      "2\n",
      "mexican\n",
      "2\n",
      "italian\n",
      "0\n"
     ]
    }
   ],
   "source": [
    "from sqlalchemy.ext.automap import automap_base\n",
    "\n",
    "Base = automap_base()\n",
    "# reflect the tables\n",
    "Base.prepare(autoload_with=engine)\n",
    "\n",
    "rt = Base.classes.Favorite_Cuisines\n",
    "boop = session.query(rt).all()\n",
    "for i in boop:\n",
    "    print(i.restaurant_type)\n",
    "    print(i.votes_cast)\n"
   ]
  }
 ],
 "metadata": {
  "kernelspec": {
   "display_name": "PythonData",
   "language": "python",
   "name": "python3"
  },
  "language_info": {
   "codemirror_mode": {
    "name": "ipython",
    "version": 3
   },
   "file_extension": ".py",
   "mimetype": "text/x-python",
   "name": "python",
   "nbconvert_exporter": "python",
   "pygments_lexer": "ipython3",
   "version": "3.7.7"
  }
 },
 "nbformat": 4,
 "nbformat_minor": 5
}
