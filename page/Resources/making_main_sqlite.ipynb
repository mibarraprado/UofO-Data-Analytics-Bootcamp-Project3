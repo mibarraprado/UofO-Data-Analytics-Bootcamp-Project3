{
 "cells": [
  {
   "cell_type": "code",
   "execution_count": null,
   "metadata": {},
   "outputs": [],
   "source": [
    "from sqlalchemy.ext.automap import automap_base\n",
    "from sqlalchemy.ext.declarative import declarative_base\n",
    "from sqlalchemy.orm import Session, sessionmaker\n",
    "from sqlalchemy import create_engine, func, inspect, Column, Integer, String, Float\n",
    "import datetime as dt\n",
    "import json"
   ]
  },
  {
   "cell_type": "code",
   "execution_count": null,
   "metadata": {},
   "outputs": [],
   "source": [
    "engine = create_engine('sqlite:///Resources/main_data.sqlite')\n",
    "base = declarative_base()\n",
    "base.prepare(engine)\n",
    "\n",
    "Session = sessionmaker(bind=engine)\n",
    "session = Session() "
   ]
  },
  {
   "cell_type": "code",
   "execution_count": null,
   "metadata": {},
   "outputs": [],
   "source": [
    "class Restaurant(base):\n",
    "    __tablename__ = 'restaurant_data'\n",
    "    id = Column(Integer, primary_key=True)\n",
    "    res_id = Column(String(255))\n",
    "    name = Column(String(255))\n",
    "    review_count = Column(Integer)\n",
    "    category = Column(String(255))\n",
    "    rating = Column(Float)\n",
    "    price = Column(String(255))\n",
    "    city = Column(String(255))\n",
    "    state = Column(String(255))\n",
    "    country = Column(String(255))\n",
    "    Lat = Column(Float)\n",
    "    Lng = Column(Float)\n",
    "    restaurant_type = Column(String(255))\n",
    "    votes_cast = Column(Integer)\n"
   ]
  },
  {
   "cell_type": "code",
   "execution_count": null,
   "metadata": {},
   "outputs": [],
   "source": [
    "base.metadata.create_all(engine)"
   ]
  },
  {
   "cell_type": "code",
   "execution_count": null,
   "metadata": {},
   "outputs": [],
   "source": [
    "# add json contents into db\n",
    "# get json here\n",
    "# make function to put one element into db\n",
    "# loop throuhg json\n",
    "# add each in"
   ]
  }
 ],
 "metadata": {
  "kernelspec": {
   "display_name": "PythonData",
   "language": "python",
   "name": "python3"
  },
  "language_info": {
   "codemirror_mode": {
    "name": "ipython",
    "version": 3
   },
   "file_extension": ".py",
   "mimetype": "text/x-python",
   "name": "python",
   "nbconvert_exporter": "python",
   "pygments_lexer": "ipython3",
   "version": "3.7.7"
  },
  "orig_nbformat": 4
 },
 "nbformat": 4,
 "nbformat_minor": 2
}
