{
 "cells": [
  {
   "cell_type": "code",
   "execution_count": null,
   "metadata": {},
   "outputs": [],
   "source": [
    "from flask import Flask,jsonify,render_template\n",
    "import json\n",
    "import pandas as pd\n",
    "import sqlalchemy\n",
    "from sqlalchemy.ext.automap import automap_base\n",
    "from sqlalchemy.orm import Session\n",
    "from sqlalchemy import create_engine, func, inspect\n",
    "import datetime as dt"
   ]
  },
  {
   "cell_type": "markdown",
   "metadata": {},
   "source": [
    "make flask server and do sql stuff"
   ]
  },
  {
   "cell_type": "code",
   "execution_count": null,
   "metadata": {},
   "outputs": [],
   "source": [
    "app = Flask(__name__)\n",
    "\n",
    "restaurant_data = json.loads(\"../resataurant_data.json\")\n",
    "restaurnt_df = pd.DataFrame(restaurant_data)\n",
    "\n",
    "#--SQL STUFF\n",
    "# engine = create_engine(\"sqlite:///Resources/votes.sqlite\")\n",
    "# base = automap_base()\n",
    "# base.prepare(autoload_with=engine)\n",
    "#-- \n",
    "\n",
    "@app.route(\"/\")\n",
    "def home():\n",
    "    print(\"YOLO CHOLO\")\n",
    "    # Start at the homepage.\n",
    "    # List all the available routes.\n",
    "    return (\n",
    "        f\"Welcome to the Portland Eats API!<br/>\"\n",
    "        f\"Available Routes:<br/>\"\n",
    "        f\"/api/v1.0/voting<br/>\"\n",
    "        f\"/api/v1.0/map/<br/>\"\n",
    "        f\"/api/v1.0/chart/<br/>\"\n",
    "        )\n",
    "\n",
    "\n",
    "\n",
    "@app.route(\"/api/v1.0/voting2\")\n",
    "def nothome2():\n",
    "    # Convert the query results from your precipitation analysis (i.e. retrieve only the last 12 months of data) to a dictionary using date as the key and prcp as the value.\n",
    "    # last_year_prcp =last_year_to_obj()\n",
    "    # Return the JSON representation of your dictionary.\n",
    "    return render_template('templates/voting.html')\n",
    "\n",
    "@app.route(\"/api/v1.0/map\")\n",
    "def somthing():\n",
    "    pass\n",
    "    # Return a JSON list of stations from the dataset.\n",
    "    # return jsonify(list(ly_df[\"station\"].unique()))\n",
    "\n",
    "@app.route(\"/api/v1.0/chart\")\n",
    "def waitasecond():\n",
    "    # Query the dates and temperature observations of the most-active station for the previous year of data.\n",
    "    pass\n",
    "    # Return a JSON list of temperature observations for the previous year.\n",
    "    # return busy_df.set_index(\"date\")[\"tobs\"].to_dict()\n",
    "\n",
    "\n",
    "if(__name__==\"__main__\"):\n",
    "    app.run(debug=True)"
   ]
  }
 ],
 "metadata": {
  "kernelspec": {
   "display_name": "PythonData",
   "language": "python",
   "name": "python3"
  },
  "language_info": {
   "name": "python",
   "version": "3.7.7"
  },
  "orig_nbformat": 4
 },
 "nbformat": 4,
 "nbformat_minor": 2
}
