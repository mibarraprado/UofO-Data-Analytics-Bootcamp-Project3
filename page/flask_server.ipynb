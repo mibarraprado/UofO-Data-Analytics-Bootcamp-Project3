{
 "cells": [
  {
   "cell_type": "code",
   "execution_count": 1,
   "metadata": {},
   "outputs": [],
   "source": [
    "from flask import Flask,jsonify,render_template\n",
    "from flask_cors import CORS\n",
    "import json\n",
    "import pandas as pd\n",
    "import sqlalchemy\n",
    "from sqlalchemy.ext.automap import automap_base\n",
    "from sqlalchemy.orm import Session\n",
    "from sqlalchemy import create_engine, func, inspect\n",
    "import datetime as dt"
   ]
  },
  {
   "cell_type": "markdown",
   "metadata": {},
   "source": [
    "make flask server and do sql stuff"
   ]
  },
  {
   "cell_type": "code",
   "execution_count": 33,
   "metadata": {},
   "outputs": [
    {
     "name": "stdout",
     "output_type": "stream",
     "text": [
      " * Serving Flask app '__main__'\n",
      " * Debug mode: off\n"
     ]
    },
    {
     "name": "stderr",
     "output_type": "stream",
     "text": [
      "WARNING: This is a development server. Do not use it in a production deployment. Use a production WSGI server instead.\n",
      " * Running on http://127.0.0.1:5000\n",
      "Press CTRL+C to quit\n",
      "127.0.0.1 - - [12/Apr/2023 23:05:51] \"GET / HTTP/1.1\" 200 -\n",
      "127.0.0.1 - - [12/Apr/2023 23:07:09] \"GET /data HTTP/1.1\" 200 -\n"
     ]
    }
   ],
   "source": [
    "app = Flask(__name__)\n",
    "CORS(app,resources={r\"/api/*\": {\"origins\": [\"http://localhost:8001\"]}})\n",
    "with open(\"../restaurant_data.json\", 'r') as file:\n",
    "    data = json.load(file)\n",
    "\n",
    "\n",
    "engine = create_engine(\"sqlite:///Resources/votes.sqlite\")\n",
    "base = automap_base()\n",
    "base.prepare(autoload_with=engine)\n",
    "types = base.classes.Favorite_Cuisines\n",
    "\n",
    "session = Session(bind=engine)\n",
    "session.add(types(restaurant_type = \"mexican\", votes_cast = 0))\n",
    "session.add(types(restaurant_type = \"italian\", votes_cast = 0))\n",
    "session.add(types(restaurant_type = \"thai\", votes_cast = 0))\n",
    "session.close()\n",
    "\n",
    "def pull_vote_totals():\n",
    "    print(\"pulling vote totals\")\n",
    "    session = Session(bind=engine)\n",
    "    boop = session.query(types).all()\n",
    "    democracy = {\"mexican\":0, \"italian\": 0, \"thai\":0}\n",
    "    \n",
    "    for i in boop:\n",
    "        print(i.restaurant_type)\n",
    "        democracy[i.restaurant_type] = i.votes_cast   \n",
    "        print(i.votes_cast) \n",
    "    session.close()\n",
    "    print(democracy)\n",
    "    print(\"pulled vote totals\")\n",
    "    return democracy\n",
    "    \n",
    "\n",
    "def add_vote_to_db(vote):\n",
    "    print(\"adding votes to db\")\n",
    "    session = Session(bind=engine)\n",
    "    \n",
    "    tp = session.query(types).filter(types.restaurant_type == vote).all()\n",
    "    for t in tp:\n",
    "        print(\"looping through tp\")\n",
    "        print(t.votes_cast)\n",
    "        t.votes_cast += 1\n",
    "        print(t.votes_cast)\n",
    "    session.commit()\n",
    "    print(f\"added {vote} to db\")\n",
    "    session.close()\n",
    "    return json.dumps(\"vote added to db\")\n",
    "    \n",
    "\n",
    "@app.route(\"/\")\n",
    "def home():\n",
    "    return render_template('index.html')\n",
    "\n",
    "@app.route(\"/map\")\n",
    "def dontwait():\n",
    "    return render_template('map.html')\n",
    "\n",
    "@app.route(\"/chart\")\n",
    "def justkiddingyoucanwait():\n",
    "    return render_template('chart.html')\n",
    "\n",
    "@app.route(\"/btc\")\n",
    "def nvm():\n",
    "    return render_template('btc.html')\n",
    "\n",
    "@app.route(\"/vote<vote>\")\n",
    "def noway(vote):\n",
    "    add_vote_to_db(vote)\n",
    "    return vote\n",
    "    \n",
    "@app.route(\"/voteTot\")\n",
    "def jose():\n",
    "    voteTots = pull_vote_totals()\n",
    "    return json.dumps(voteTots)\n",
    "\n",
    "@app.route(\"/data\")\n",
    "def josephine():\n",
    "    return json.dumps(data)\n",
    "\n",
    "\n",
    "if(__name__==\"__main__\"):\n",
    "    app.run()"
   ]
  }
 ],
 "metadata": {
  "kernelspec": {
   "display_name": "PythonData",
   "language": "python",
   "name": "python3"
  },
  "language_info": {
   "codemirror_mode": {
    "name": "ipython",
    "version": 3
   },
   "file_extension": ".py",
   "mimetype": "text/x-python",
   "name": "python",
   "nbconvert_exporter": "python",
   "pygments_lexer": "ipython3",
   "version": "3.7.7"
  },
  "orig_nbformat": 4
 },
 "nbformat": 4,
 "nbformat_minor": 2
}
