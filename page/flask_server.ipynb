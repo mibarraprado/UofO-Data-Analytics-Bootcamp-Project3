{
 "cells": [
  {
   "cell_type": "code",
   "execution_count": 2,
   "metadata": {},
   "outputs": [],
   "source": [
    "from flask import Flask,jsonify,render_template\n",
    "from flask_cors import CORS\n",
    "import json\n",
    "import pandas as pd\n",
    "import sqlalchemy\n",
    "from sqlalchemy.ext.automap import automap_base\n",
    "from sqlalchemy.orm import Session, sessionmaker\n",
    "from sqlalchemy import create_engine, func, inspect\n",
    "import datetime as dt"
   ]
  },
  {
   "cell_type": "markdown",
   "metadata": {},
   "source": [
    "make flask server and do sql stuff"
   ]
  },
  {
   "cell_type": "code",
   "execution_count": 42,
   "metadata": {},
   "outputs": [
    {
     "name": "stdout",
     "output_type": "stream",
     "text": [
      " * Serving Flask app '__main__'\n",
      " * Debug mode: off\n"
     ]
    },
    {
     "name": "stderr",
     "output_type": "stream",
     "text": [
      "WARNING: This is a development server. Do not use it in a production deployment. Use a production WSGI server instead.\n",
      " * Running on http://127.0.0.1:5000\n",
      "Press CTRL+C to quit\n",
      "127.0.0.1 - - [13/Apr/2023 16:40:44] \"GET / HTTP/1.1\" 200 -\n",
      "127.0.0.1 - - [13/Apr/2023 16:40:51] \"GET /votemexican HTTP/1.1\" 200 -\n",
      "127.0.0.1 - - [13/Apr/2023 16:40:51] \"GET /voteTot HTTP/1.1\" 200 -\n",
      "127.0.0.1 - - [13/Apr/2023 16:40:52] \"GET /voteTot HTTP/1.1\" 200 -\n",
      "127.0.0.1 - - [13/Apr/2023 16:40:52] \"GET /voteitalian HTTP/1.1\" 200 -\n",
      "127.0.0.1 - - [13/Apr/2023 16:40:53] \"GET /voteitalian HTTP/1.1\" 200 -\n",
      "127.0.0.1 - - [13/Apr/2023 16:40:53] \"GET /voteTot HTTP/1.1\" 200 -\n"
     ]
    }
   ],
   "source": [
    "app = Flask(__name__)\n",
    "CORS(app,resources={r\"/*\": {\"origins\": [\"http://127.0.0.1:5000\"]}})\n",
    "with open(\"../restaurant_data.json\", 'r') as file:\n",
    "    data = json.load(file)\n",
    "\n",
    "engine = create_engine(\"sqlite:///Resources/votes.sqlite\")\n",
    "base = automap_base()\n",
    "base.prepare(autoload_with=engine)\n",
    "types = base.classes.Favorite_Cuisines\n",
    "\n",
    "\n",
    "def pull_vote_totals():\n",
    "    session = Session()\n",
    "    boop = session.query(types).all()\n",
    "    democracy = {\"mexican\":0, \"italian\": 0, \"thai\":0}\n",
    "    for i in boop:\n",
    "        democracy[i.restaurant_type] = i.votes_cast   \n",
    "    session.close()\n",
    "    return democracy\n",
    "    \n",
    "\n",
    "def add_vote_to_db(vote,types):\n",
    "    session = Session()\n",
    "    tp = session.query(types).filter(types.restaurant_type == vote).first()\n",
    "    tp.votes_cast += 1\n",
    "    session.commit()\n",
    "    session.close()\n",
    "    return json.dumps(\"vote added to db\")\n",
    "    \n",
    "\n",
    "@app.route(\"/\")\n",
    "def home():\n",
    "    return render_template('index.html')\n",
    "\n",
    "@app.route(\"/map\")\n",
    "def dontwait():\n",
    "    return render_template('map.html')\n",
    "\n",
    "@app.route(\"/chart\")\n",
    "def justkiddingyoucanwait():\n",
    "    return render_template('chart.html')\n",
    "\n",
    "@app.route(\"/btc\")\n",
    "def nvm():\n",
    "    return render_template('btc.html')\n",
    "\n",
    "@app.route(\"/vote<vote>\")\n",
    "def noway(vote):\n",
    "    add_vote_to_db(vote,types)\n",
    "    return vote\n",
    "    \n",
    "@app.route(\"/voteTot\")\n",
    "def jose():\n",
    "    voteTots = pull_vote_totals()\n",
    "    return json.dumps(voteTots)\n",
    "\n",
    "@app.route(\"/data\")\n",
    "def josephine():\n",
    "    return json.dumps(data)\n",
    "\n",
    "\n",
    "if(__name__==\"__main__\"):\n",
    "    app.run()"
   ]
  }
 ],
 "metadata": {
  "kernelspec": {
   "display_name": "PythonData",
   "language": "python",
   "name": "python3"
  },
  "language_info": {
   "codemirror_mode": {
    "name": "ipython",
    "version": 3
   },
   "file_extension": ".py",
   "mimetype": "text/x-python",
   "name": "python",
   "nbconvert_exporter": "python",
   "pygments_lexer": "ipython3",
   "version": "3.7.7"
  },
  "orig_nbformat": 4
 },
 "nbformat": 4,
 "nbformat_minor": 2
}
