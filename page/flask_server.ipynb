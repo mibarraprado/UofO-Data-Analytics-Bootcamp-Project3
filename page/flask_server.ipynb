{
 "cells": [
  {
   "cell_type": "code",
   "execution_count": 1,
   "metadata": {},
   "outputs": [],
   "source": [
    "from flask import Flask,jsonify,render_template\n",
    "from flask_cors import CORS\n",
    "import json\n",
    "import pandas as pd\n",
    "import sqlalchemy\n",
    "from sqlalchemy.ext.automap import automap_base\n",
    "from sqlalchemy.orm import Session\n",
    "from sqlalchemy import create_engine, func, inspect\n",
    "import datetime as dt"
   ]
  },
  {
   "cell_type": "markdown",
   "metadata": {},
   "source": [
    "make flask server and do sql stuff"
   ]
  },
  {
   "cell_type": "code",
   "execution_count": 27,
   "metadata": {},
   "outputs": [
    {
     "ename": "UnmappedInstanceError",
     "evalue": "Class 'builtins.str' is not mapped",
     "output_type": "error",
     "traceback": [
      "\u001b[1;31m---------------------------------------------------------------------------\u001b[0m",
      "\u001b[1;31mAttributeError\u001b[0m                            Traceback (most recent call last)",
      "\u001b[1;32mg:\\programs\\Anaconda\\envs\\PythonData\\lib\\site-packages\\sqlalchemy\\orm\\session.py\u001b[0m in \u001b[0;36madd\u001b[1;34m(self, instance, _warn)\u001b[0m\n\u001b[0;32m   2635\u001b[0m         \u001b[1;32mtry\u001b[0m\u001b[1;33m:\u001b[0m\u001b[1;33m\u001b[0m\u001b[1;33m\u001b[0m\u001b[0m\n\u001b[1;32m-> 2636\u001b[1;33m             \u001b[0mstate\u001b[0m \u001b[1;33m=\u001b[0m \u001b[0mattributes\u001b[0m\u001b[1;33m.\u001b[0m\u001b[0minstance_state\u001b[0m\u001b[1;33m(\u001b[0m\u001b[0minstance\u001b[0m\u001b[1;33m)\u001b[0m\u001b[1;33m\u001b[0m\u001b[1;33m\u001b[0m\u001b[0m\n\u001b[0m\u001b[0;32m   2637\u001b[0m         \u001b[1;32mexcept\u001b[0m \u001b[0mexc\u001b[0m\u001b[1;33m.\u001b[0m\u001b[0mNO_STATE\u001b[0m \u001b[1;32mas\u001b[0m \u001b[0merr\u001b[0m\u001b[1;33m:\u001b[0m\u001b[1;33m\u001b[0m\u001b[1;33m\u001b[0m\u001b[0m\n",
      "\u001b[1;31mAttributeError\u001b[0m: 'str' object has no attribute '_sa_instance_state'",
      "\nThe above exception was the direct cause of the following exception:\n",
      "\u001b[1;31mUnmappedInstanceError\u001b[0m                     Traceback (most recent call last)",
      "\u001b[1;32m~\\AppData\\Local\\Temp\\ipykernel_17276\\595936053.py\u001b[0m in \u001b[0;36m<module>\u001b[1;34m\u001b[0m\n\u001b[0;32m     12\u001b[0m \u001b[1;33m\u001b[0m\u001b[0m\n\u001b[0;32m     13\u001b[0m \u001b[0msession\u001b[0m \u001b[1;33m=\u001b[0m \u001b[0mSession\u001b[0m\u001b[1;33m(\u001b[0m\u001b[0mbind\u001b[0m\u001b[1;33m=\u001b[0m\u001b[0mengine\u001b[0m\u001b[1;33m)\u001b[0m\u001b[1;33m\u001b[0m\u001b[1;33m\u001b[0m\u001b[0m\n\u001b[1;32m---> 14\u001b[1;33m \u001b[0msession\u001b[0m\u001b[1;33m.\u001b[0m\u001b[0madd\u001b[0m\u001b[1;33m(\u001b[0m\u001b[1;34m\"something\"\u001b[0m\u001b[1;33m)\u001b[0m\u001b[1;33m\u001b[0m\u001b[1;33m\u001b[0m\u001b[0m\n\u001b[0m\u001b[0;32m     15\u001b[0m \u001b[0msession\u001b[0m\u001b[1;33m.\u001b[0m\u001b[0madd\u001b[0m\u001b[1;33m(\u001b[0m\u001b[0mtypes\u001b[0m\u001b[1;33m(\u001b[0m\u001b[0mrestaurant_type\u001b[0m \u001b[1;33m=\u001b[0m \u001b[1;34m\"mexican\"\u001b[0m\u001b[1;33m,\u001b[0m \u001b[0mvotes_cast\u001b[0m \u001b[1;33m=\u001b[0m \u001b[1;36m0\u001b[0m\u001b[1;33m)\u001b[0m\u001b[1;33m)\u001b[0m\u001b[1;33m\u001b[0m\u001b[1;33m\u001b[0m\u001b[0m\n\u001b[0;32m     16\u001b[0m \u001b[0msession\u001b[0m\u001b[1;33m.\u001b[0m\u001b[0madd\u001b[0m\u001b[1;33m(\u001b[0m\u001b[0mtypes\u001b[0m\u001b[1;33m(\u001b[0m\u001b[0mrestaurant_type\u001b[0m \u001b[1;33m=\u001b[0m \u001b[1;34m\"italian\"\u001b[0m\u001b[1;33m,\u001b[0m \u001b[0mvotes_cast\u001b[0m \u001b[1;33m=\u001b[0m \u001b[1;36m0\u001b[0m\u001b[1;33m)\u001b[0m\u001b[1;33m)\u001b[0m\u001b[1;33m\u001b[0m\u001b[1;33m\u001b[0m\u001b[0m\n",
      "\u001b[1;32mg:\\programs\\Anaconda\\envs\\PythonData\\lib\\site-packages\\sqlalchemy\\orm\\session.py\u001b[0m in \u001b[0;36madd\u001b[1;34m(self, instance, _warn)\u001b[0m\n\u001b[0;32m   2638\u001b[0m             util.raise_(\n\u001b[0;32m   2639\u001b[0m                 \u001b[0mexc\u001b[0m\u001b[1;33m.\u001b[0m\u001b[0mUnmappedInstanceError\u001b[0m\u001b[1;33m(\u001b[0m\u001b[0minstance\u001b[0m\u001b[1;33m)\u001b[0m\u001b[1;33m,\u001b[0m\u001b[1;33m\u001b[0m\u001b[1;33m\u001b[0m\u001b[0m\n\u001b[1;32m-> 2640\u001b[1;33m                 \u001b[0mreplace_context\u001b[0m\u001b[1;33m=\u001b[0m\u001b[0merr\u001b[0m\u001b[1;33m,\u001b[0m\u001b[1;33m\u001b[0m\u001b[1;33m\u001b[0m\u001b[0m\n\u001b[0m\u001b[0;32m   2641\u001b[0m             )\n\u001b[0;32m   2642\u001b[0m \u001b[1;33m\u001b[0m\u001b[0m\n",
      "\u001b[1;32mg:\\programs\\Anaconda\\envs\\PythonData\\lib\\site-packages\\sqlalchemy\\util\\compat.py\u001b[0m in \u001b[0;36mraise_\u001b[1;34m(***failed resolving arguments***)\u001b[0m\n\u001b[0;32m    209\u001b[0m \u001b[1;33m\u001b[0m\u001b[0m\n\u001b[0;32m    210\u001b[0m         \u001b[1;32mtry\u001b[0m\u001b[1;33m:\u001b[0m\u001b[1;33m\u001b[0m\u001b[1;33m\u001b[0m\u001b[0m\n\u001b[1;32m--> 211\u001b[1;33m             \u001b[1;32mraise\u001b[0m \u001b[0mexception\u001b[0m\u001b[1;33m\u001b[0m\u001b[1;33m\u001b[0m\u001b[0m\n\u001b[0m\u001b[0;32m    212\u001b[0m         \u001b[1;32mfinally\u001b[0m\u001b[1;33m:\u001b[0m\u001b[1;33m\u001b[0m\u001b[1;33m\u001b[0m\u001b[0m\n\u001b[0;32m    213\u001b[0m             \u001b[1;31m# credit to\u001b[0m\u001b[1;33m\u001b[0m\u001b[1;33m\u001b[0m\u001b[1;33m\u001b[0m\u001b[0m\n",
      "\u001b[1;31mUnmappedInstanceError\u001b[0m: Class 'builtins.str' is not mapped"
     ]
    }
   ],
   "source": [
    "app = Flask(__name__)\n",
    "CORS(app)\n",
    "with open(\"../restaurant_data.json\", 'r') as file:\n",
    "    data = json.load(file)\n",
    "\n",
    "restaurnt_df = pd.DataFrame(data)\n",
    "\n",
    "engine = create_engine(\"sqlite:///Resources/votes.sqlite\")\n",
    "base = automap_base()\n",
    "base.prepare(autoload_with=engine)\n",
    "types = base.classes.Favorite_Cuisines\n",
    "\n",
    "session = Session(bind=engine)\n",
    "session.add(\"something\")\n",
    "session.add(types(restaurant_type = \"mexican\", votes_cast = 0))\n",
    "session.add(types(restaurant_type = \"italian\", votes_cast = 0))\n",
    "session.add(types(restaurant_type = \"thai\", votes_cast = 0))\n",
    "session.close()\n",
    "\n",
    "def pull_vote_totals():\n",
    "    print(\"pulling vote totals\")\n",
    "    session = Session(bind=engine)\n",
    "    boop = session.query(types).all()\n",
    "    democracy = {\"mexican\":0, \"italian\": 0, \"thai\":0}\n",
    "    \n",
    "    for i in boop:\n",
    "        print(i.restaurant_type)\n",
    "        democracy[i.restaurant_type] = i.votes_cast   \n",
    "        print(i.votes_cast) \n",
    "    session.close()\n",
    "    print(\"pulled vote totals\")\n",
    "    print(democracy)\n",
    "    return democracy\n",
    "    \n",
    "\n",
    "def add_vote_to_db(vote):\n",
    "    print(\"adding votes to db\")\n",
    "    session = Session(bind=engine)\n",
    "    \n",
    "    tp = session.query(types).filter(types.restaurant_type == vote)\n",
    "    for t in tp:\n",
    "        print(\"looping through tp\")\n",
    "        print(t.votes_cast)\n",
    "        t.votes_cast += 1\n",
    "        print(t.votes_cast)\n",
    "    session.commit()\n",
    "    print(f\"added {vote} to db\")\n",
    "    session.close()\n",
    "    return json.dumps(\"vote added to db\")\n",
    "    \n",
    "\n",
    "@app.route(\"/\")\n",
    "def home():\n",
    "    return render_template('index.html')\n",
    "\n",
    "@app.route(\"/map\")\n",
    "def dontwait():\n",
    "    return render_template('map.html')\n",
    "\n",
    "@app.route(\"/chart\")\n",
    "def justkiddingyoucanwait():\n",
    "    return render_template('chart.html')\n",
    "\n",
    "@app.route(\"/btc\")\n",
    "def nvm():\n",
    "    return render_template('btc.html')\n",
    "\n",
    "@app.route(\"/vote<vote>\")\n",
    "def noway(vote):\n",
    "    add_vote_to_db(vote)\n",
    "    return vote\n",
    "    \n",
    "@app.route(\"/voteTot\")\n",
    "def jose():\n",
    "    voteTots = pull_vote_totals()\n",
    "    print(voteTots)\n",
    "    return json.dumps(voteTots)\n",
    "\n",
    "\n",
    "if(__name__==\"__main__\"):\n",
    "    app.run()"
   ]
  }
 ],
 "metadata": {
  "kernelspec": {
   "display_name": "PythonData",
   "language": "python",
   "name": "python3"
  },
  "language_info": {
   "codemirror_mode": {
    "name": "ipython",
    "version": 3
   },
   "file_extension": ".py",
   "mimetype": "text/x-python",
   "name": "python",
   "nbconvert_exporter": "python",
   "pygments_lexer": "ipython3",
   "version": "3.7.7"
  },
  "orig_nbformat": 4
 },
 "nbformat": 4,
 "nbformat_minor": 2
}
