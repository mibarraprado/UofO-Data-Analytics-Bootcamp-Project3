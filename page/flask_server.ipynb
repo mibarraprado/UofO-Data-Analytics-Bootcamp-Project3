{
 "cells": [
  {
   "cell_type": "code",
   "execution_count": 2,
   "metadata": {},
   "outputs": [],
   "source": [
    "from flask import Flask,jsonify,render_template\n",
    "import json\n",
    "import pandas as pd\n",
    "import sqlalchemy\n",
    "from sqlalchemy.ext.automap import automap_base\n",
    "from sqlalchemy.orm import Session\n",
    "from sqlalchemy import create_engine, func, inspect\n",
    "import datetime as dt"
   ]
  },
  {
   "cell_type": "markdown",
   "metadata": {},
   "source": [
    "make flask server and do sql stuff"
   ]
  },
  {
   "cell_type": "code",
   "execution_count": 12,
   "metadata": {},
   "outputs": [
    {
     "name": "stdout",
     "output_type": "stream",
     "text": [
      " * Serving Flask app '__main__'\n",
      " * Debug mode: off\n"
     ]
    },
    {
     "name": "stderr",
     "output_type": "stream",
     "text": [
      "WARNING: This is a development server. Do not use it in a production deployment. Use a production WSGI server instead.\n",
      " * Running on http://127.0.0.1:5000\n",
      "Press CTRL+C to quit\n",
      "127.0.0.1 - - [06/Apr/2023 20:44:16] \"GET /api/v1.0/voting2 HTTP/1.1\" 404 -\n",
      "127.0.0.1 - - [06/Apr/2023 20:44:22] \"GET /api/v1.0/home HTTP/1.1\" 200 -\n",
      "127.0.0.1 - - [06/Apr/2023 20:44:22] \"GET /api/v1.0/index.js HTTP/1.1\" 404 -\n",
      "127.0.0.1 - - [06/Apr/2023 20:44:47] \"GET /api/v1.0/btc HTTP/1.1\" 200 -\n",
      "127.0.0.1 - - [06/Apr/2023 20:44:48] \"GET /api/v1.0/index.js HTTP/1.1\" 404 -\n"
     ]
    }
   ],
   "source": [
    "app = Flask(__name__)\n",
    "\n",
    "with open(\"../restaurant_data.json\", 'r') as file:\n",
    "    data = json.load(file)\n",
    "    \n",
    "\n",
    "restaurant_data = data\n",
    "# json.load(\"restaurant_data.json\")\n",
    "restaurnt_df = pd.DataFrame(restaurant_data)\n",
    "# json.loads\n",
    "#--SQL STUFF\n",
    "# engine = create_engine(\"sqlite:///Resources/votes.sqlite\")\n",
    "# base = automap_base()\n",
    "# base.prepare(autoload_with=engine)\n",
    "#-- \n",
    "\n",
    "@app.route(\"/\")\n",
    "def home():\n",
    "    print(\"YOLO CHOLO\")\n",
    "    # Start at the homepage.\n",
    "    # List all the available routes.\n",
    "    return (\n",
    "        f\"Welcome to the Portland Eats API!<br/>\"\n",
    "        f\"Available Routes:<br/>\"\n",
    "        f\"/api/v1.0/home<br/>\"\n",
    "        f\"/api/v1.0/map/<br/>\"\n",
    "        f\"/api/v1.0/chart/<br/>\"\n",
    "        f\"/api/v1.0/btc/<br/>\"\n",
    "        )\n",
    "\n",
    "\n",
    "\n",
    "@app.route(\"/api/v1.0/home\")\n",
    "def wait():\n",
    "    return render_template('index.html')\n",
    "@app.route(\"/api/v1.0/map\")\n",
    "def dontwait():\n",
    "    return render_template('map.html')\n",
    "@app.route(\"/api/v1.0/chart\")\n",
    "def justkiddingyoucanwait():\n",
    "    return render_template('chart.html')\n",
    "@app.route(\"/api/v1.0/btc\")\n",
    "def nvm():\n",
    "    return render_template('btc.html')\n",
    "\n",
    "app.run()\n",
    "# if(__name__==\"__main__\"):\n",
    "#     app.run(debug=True)"
   ]
  }
 ],
 "metadata": {
  "kernelspec": {
   "display_name": "PythonData",
   "language": "python",
   "name": "python3"
  },
  "language_info": {
   "codemirror_mode": {
    "name": "ipython",
    "version": 3
   },
   "file_extension": ".py",
   "mimetype": "text/x-python",
   "name": "python",
   "nbconvert_exporter": "python",
   "pygments_lexer": "ipython3",
   "version": "3.7.7"
  },
  "orig_nbformat": 4
 },
 "nbformat": 4,
 "nbformat_minor": 2
}
