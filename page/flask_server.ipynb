{
 "cells": [
  {
   "cell_type": "code",
   "execution_count": 2,
   "metadata": {},
   "outputs": [],
   "source": [
    "from flask import Flask,jsonify,render_template\n",
    "from flask_cors import CORS\n",
    "import json\n",
    "import pandas as pd\n",
    "import sqlalchemy\n",
    "from sqlalchemy.ext.automap import automap_base\n",
    "from sqlalchemy.orm import Session, sessionmaker\n",
    "from sqlalchemy import create_engine, func, inspect\n",
    "import datetime as dt"
   ]
  },
  {
   "cell_type": "markdown",
   "metadata": {},
   "source": [
    "make flask server and do sql stuff"
   ]
  },
  {
   "cell_type": "code",
   "execution_count": 39,
   "metadata": {},
   "outputs": [
    {
     "name": "stdout",
     "output_type": "stream",
     "text": [
      "[10, 6, 7]\n",
      " * Serving Flask app '__main__'\n",
      " * Debug mode: off\n"
     ]
    },
    {
     "name": "stderr",
     "output_type": "stream",
     "text": [
      "WARNING: This is a development server. Do not use it in a production deployment. Use a production WSGI server instead.\n",
      " * Running on http://127.0.0.1:5000\n",
      "Press CTRL+C to quit\n",
      "127.0.0.1 - - [13/Apr/2023 16:29:41] \"GET / HTTP/1.1\" 200 -\n",
      "127.0.0.1 - - [13/Apr/2023 16:29:46] \"GET /voteitalian HTTP/1.1\" 200 -\n",
      "127.0.0.1 - - [13/Apr/2023 16:29:46] \"GET /voteTot HTTP/1.1\" 200 -\n"
     ]
    },
    {
     "name": "stdout",
     "output_type": "stream",
     "text": [
      "mexican\n",
      "10\n",
      "italian\n",
      "7\n",
      "thai\n",
      "7\n",
      "{'mexican': 10, 'italian': 7, 'thai': 7}\n"
     ]
    },
    {
     "name": "stderr",
     "output_type": "stream",
     "text": [
      "127.0.0.1 - - [13/Apr/2023 16:29:48] \"GET /voteTot HTTP/1.1\" 200 -\n",
      "127.0.0.1 - - [13/Apr/2023 16:29:48] \"GET /voteitalian HTTP/1.1\" 200 -\n"
     ]
    },
    {
     "name": "stdout",
     "output_type": "stream",
     "text": [
      "mexican\n",
      "10\n",
      "italian\n",
      "7\n",
      "thai\n",
      "7\n",
      "{'mexican': 10, 'italian': 7, 'thai': 7}\n"
     ]
    },
    {
     "name": "stderr",
     "output_type": "stream",
     "text": [
      "127.0.0.1 - - [13/Apr/2023 16:29:49] \"GET /voteitalian HTTP/1.1\" 200 -\n",
      "127.0.0.1 - - [13/Apr/2023 16:29:50] \"GET /voteTot HTTP/1.1\" 200 -\n"
     ]
    },
    {
     "name": "stdout",
     "output_type": "stream",
     "text": [
      "mexican\n",
      "10\n",
      "italian\n",
      "9\n",
      "thai\n",
      "7\n",
      "{'mexican': 10, 'italian': 9, 'thai': 7}\n"
     ]
    }
   ],
   "source": [
    "app = Flask(__name__)\n",
    "CORS(app,resources={r\"/*\": {\"origins\": [\"http://127.0.0.1:5000\"]}})\n",
    "with open(\"../restaurant_data.json\", 'r') as file:\n",
    "    data = json.load(file)\n",
    "\n",
    "engine = create_engine(\"sqlite:///Resources/votes.sqlite\")\n",
    "base = automap_base()\n",
    "base.prepare(autoload_with=engine)\n",
    "# inspector = inspect(engine)\n",
    "# print(inspector.get_table_names())\n",
    "types = base.classes.Favorite_Cuisines\n",
    "# print(f\"Reflected table name: {types.__table__.name}\")\n",
    "# print(f\"Columns: {types.__table__.columns}\")\n",
    "Session = sessionmaker(bind=engine)\n",
    "session = Session()\n",
    "# session.add(types(restaurant_type = \"mexican\", votes_cast = 0))\n",
    "# session.add(types(restaurant_type = \"italian\", votes_cast = 0))\n",
    "# session.add(types(restaurant_type = \"thai\", votes_cast = 0))\n",
    "# session.commit()\n",
    "testq = session.query(types).all()\n",
    "print([i.votes_cast for i in testq if True])\n",
    "session.close()\n",
    "\n",
    "def pull_vote_totals():\n",
    "    session = Session()\n",
    "    boop = session.query(types).all()\n",
    "    democracy = {\"mexican\":0, \"italian\": 0, \"thai\":0}\n",
    "    \n",
    "    for i in boop:\n",
    "        democracy[i.restaurant_type] = i.votes_cast   \n",
    "    session.close()\n",
    "    return democracy\n",
    "    \n",
    "\n",
    "def add_vote_to_db(vote,types):\n",
    "    session = Session()\n",
    "    tp = session.query(types).filter(types.restaurant_type == vote).first()\n",
    "    tp.votes_cast += 1\n",
    "    session.commit()\n",
    "    session.close()\n",
    "    return json.dumps(\"vote added to db\")\n",
    "    \n",
    "\n",
    "@app.route(\"/\")\n",
    "def home():\n",
    "    return render_template('index.html')\n",
    "\n",
    "@app.route(\"/map\")\n",
    "def dontwait():\n",
    "    return render_template('map.html')\n",
    "\n",
    "@app.route(\"/chart\")\n",
    "def justkiddingyoucanwait():\n",
    "    return render_template('chart.html')\n",
    "\n",
    "@app.route(\"/btc\")\n",
    "def nvm():\n",
    "    return render_template('btc.html')\n",
    "\n",
    "@app.route(\"/vote<vote>\")\n",
    "def noway(vote):\n",
    "    add_vote_to_db(vote,types)\n",
    "    return vote\n",
    "    \n",
    "@app.route(\"/voteTot\")\n",
    "def jose():\n",
    "    voteTots = pull_vote_totals()\n",
    "    return json.dumps(voteTots)\n",
    "\n",
    "@app.route(\"/data\")\n",
    "def josephine():\n",
    "    return json.dumps(data)\n",
    "\n",
    "\n",
    "if(__name__==\"__main__\"):\n",
    "    app.run()"
   ]
  }
 ],
 "metadata": {
  "kernelspec": {
   "display_name": "PythonData",
   "language": "python",
   "name": "python3"
  },
  "language_info": {
   "codemirror_mode": {
    "name": "ipython",
    "version": 3
   },
   "file_extension": ".py",
   "mimetype": "text/x-python",
   "name": "python",
   "nbconvert_exporter": "python",
   "pygments_lexer": "ipython3",
   "version": "3.7.7"
  },
  "orig_nbformat": 4
 },
 "nbformat": 4,
 "nbformat_minor": 2
}
