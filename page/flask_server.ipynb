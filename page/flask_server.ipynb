{
 "cells": [
  {
   "cell_type": "code",
   "execution_count": 2,
   "metadata": {},
   "outputs": [],
   "source": [
    "from flask import Flask,jsonify,render_template\n",
    "from flask_cors import CORS\n",
    "import json\n",
    "import pandas as pd\n",
    "import sqlalchemy\n",
    "from sqlalchemy.ext.automap import automap_base\n",
    "from sqlalchemy.orm import Session, sessionmaker\n",
    "from sqlalchemy import create_engine, func, inspect\n",
    "import datetime as dt"
   ]
  },
  {
   "cell_type": "markdown",
   "metadata": {},
   "source": [
    "make flask server and do sql stuff"
   ]
  },
  {
   "cell_type": "code",
   "execution_count": 38,
   "metadata": {},
   "outputs": [
    {
     "name": "stdout",
     "output_type": "stream",
     "text": [
      "[3, 0, 0]\n",
      "closing session\n",
      " * Serving Flask app '__main__'\n",
      " * Debug mode: off\n"
     ]
    },
    {
     "name": "stderr",
     "output_type": "stream",
     "text": [
      "WARNING: This is a development server. Do not use it in a production deployment. Use a production WSGI server instead.\n",
      " * Running on http://127.0.0.1:5000\n",
      "Press CTRL+C to quit\n"
     ]
    },
    {
     "name": "stdout",
     "output_type": "stream",
     "text": [
      "adding votes to db\n",
      "the vote is: mexican\n",
      "the len of tp is: 1\n",
      "looping through tp\n",
      "3\n",
      "4\n",
      "this is the result: [<sqlalchemy.ext.automap.Favorite_Cuisines object at 0x000002609062BF48>]\n"
     ]
    },
    {
     "name": "stderr",
     "output_type": "stream",
     "text": [
      "127.0.0.1 - - [13/Apr/2023 16:25:24] \"GET / HTTP/1.1\" 200 -\n"
     ]
    },
    {
     "name": "stdout",
     "output_type": "stream",
     "text": [
      "added mexican to db\n"
     ]
    },
    {
     "name": "stderr",
     "output_type": "stream",
     "text": [
      "127.0.0.1 - - [13/Apr/2023 16:25:43] \"GET /voteitalian HTTP/1.1\" 200 -\n"
     ]
    },
    {
     "name": "stdout",
     "output_type": "stream",
     "text": [
      "the vote is: italian the type is: <class 'sqlalchemy.ext.automap.Favorite_Cuisines'>\n",
      "adding votes to db\n",
      "the vote is: italian\n",
      "the len of tp is: 1\n",
      "looping through tp\n",
      "0\n",
      "1\n",
      "this is the result: [<sqlalchemy.ext.automap.Favorite_Cuisines object at 0x0000026090637A88>]\n",
      "added italian to db\n"
     ]
    },
    {
     "name": "stderr",
     "output_type": "stream",
     "text": [
      "127.0.0.1 - - [13/Apr/2023 16:25:43] \"GET /voteTot HTTP/1.1\" 200 -\n"
     ]
    },
    {
     "name": "stdout",
     "output_type": "stream",
     "text": [
      "pulling vote totals\n",
      "mexican\n",
      "4\n",
      "italian\n",
      "1\n",
      "thai\n",
      "0\n",
      "{'mexican': 4, 'italian': 1, 'thai': 0}\n",
      "pulled vote totals\n"
     ]
    },
    {
     "name": "stderr",
     "output_type": "stream",
     "text": [
      "127.0.0.1 - - [13/Apr/2023 16:25:54] \"GET /voteTot HTTP/1.1\" 200 -\n"
     ]
    },
    {
     "name": "stdout",
     "output_type": "stream",
     "text": [
      "pulling vote totals\n",
      "the vote is: thai the type is: <class 'sqlalchemy.ext.automap.Favorite_Cuisines'>\n",
      "adding votes to db\n",
      "the vote is: thai\n",
      "mexican\n",
      "4\n",
      "italian\n",
      "1\n",
      "thai\n",
      "0\n",
      "{'mexican': 4, 'italian': 1, 'thai': 0}\n",
      "pulled vote totals\n",
      "the len of tp is: 1\n",
      "looping through tp\n",
      "0\n",
      "1\n",
      "this is the result: [<sqlalchemy.ext.automap.Favorite_Cuisines object at 0x0000026090637308>]\n"
     ]
    },
    {
     "name": "stderr",
     "output_type": "stream",
     "text": [
      "127.0.0.1 - - [13/Apr/2023 16:25:55] \"GET /votethai HTTP/1.1\" 200 -\n"
     ]
    },
    {
     "name": "stdout",
     "output_type": "stream",
     "text": [
      "added thai to db\n"
     ]
    },
    {
     "name": "stderr",
     "output_type": "stream",
     "text": [
      "127.0.0.1 - - [13/Apr/2023 16:26:14] \"GET / HTTP/1.1\" 200 -\n"
     ]
    },
    {
     "name": "stdout",
     "output_type": "stream",
     "text": [
      "adding votes to db\n",
      "the vote is: mexican\n",
      "the len of tp is: 1\n",
      "looping through tp\n",
      "4\n",
      "5\n",
      "this is the result: [<sqlalchemy.ext.automap.Favorite_Cuisines object at 0x0000026090637288>]\n",
      "added mexican to db\n",
      "the vote is: italian the type is: <class 'sqlalchemy.ext.automap.Favorite_Cuisines'>\n",
      "adding votes to db\n",
      "the vote is: italian\n",
      "the len of tp is: 1\n",
      "looping through tp\n",
      "1\n",
      "2\n",
      "this is the result: [<sqlalchemy.ext.automap.Favorite_Cuisines object at 0x0000026090637F88>]\n",
      "added italian to db\n"
     ]
    },
    {
     "name": "stderr",
     "output_type": "stream",
     "text": [
      "127.0.0.1 - - [13/Apr/2023 16:26:19] \"GET /voteitalian HTTP/1.1\" 200 -\n",
      "127.0.0.1 - - [13/Apr/2023 16:26:19] \"GET /voteTot HTTP/1.1\" 200 -\n"
     ]
    },
    {
     "name": "stdout",
     "output_type": "stream",
     "text": [
      "pulling vote totals\n",
      "mexican\n",
      "5\n",
      "italian\n",
      "2\n",
      "thai\n",
      "1\n",
      "{'mexican': 5, 'italian': 2, 'thai': 1}\n",
      "pulled vote totals\n",
      "adding votes to db\n",
      "the vote is: mexican\n",
      "the len of tp is: 1\n",
      "looping through tp\n",
      "5\n",
      "6\n",
      "this is the result: [<sqlalchemy.ext.automap.Favorite_Cuisines object at 0x0000026090CD04C8>]\n",
      "added mexican to db"
     ]
    },
    {
     "name": "stderr",
     "output_type": "stream",
     "text": [
      "127.0.0.1 - - [13/Apr/2023 16:26:23] \"GET / HTTP/1.1\" 200 -\n"
     ]
    },
    {
     "name": "stdout",
     "output_type": "stream",
     "text": [
      "\n"
     ]
    },
    {
     "name": "stderr",
     "output_type": "stream",
     "text": [
      "127.0.0.1 - - [13/Apr/2023 16:26:37] \"GET /voteTot HTTP/1.1\" 200 -\n"
     ]
    },
    {
     "name": "stdout",
     "output_type": "stream",
     "text": [
      "pulling vote totalsthe vote is: \n",
      "mexican the type is: <class 'sqlalchemy.ext.automap.Favorite_Cuisines'>\n",
      "adding votes to db\n",
      "the vote is: mexican\n",
      "mexican\n",
      "6\n",
      "italian\n",
      "2\n",
      "thai\n",
      "1\n",
      "{'mexican': 6, 'italian': 2, 'thai': 1}\n",
      "pulled vote totals\n",
      "the len of tp is: 1\n",
      "looping through tp\n",
      "6\n",
      "7\n",
      "this is the result: [<sqlalchemy.ext.automap.Favorite_Cuisines object at 0x0000026090D36FC8>]\n",
      "added mexican to db\n"
     ]
    },
    {
     "name": "stderr",
     "output_type": "stream",
     "text": [
      "127.0.0.1 - - [13/Apr/2023 16:26:37] \"GET /votemexican HTTP/1.1\" 200 -\n"
     ]
    },
    {
     "name": "stdout",
     "output_type": "stream",
     "text": [
      "the vote is: mexican the type is: <class 'sqlalchemy.ext.automap.Favorite_Cuisines'>\n",
      "adding votes to db\n",
      "the vote is: mexican\n",
      "the len of tp is: 1\n",
      "looping through tp\n",
      "7\n",
      "8\n",
      "this is the result: [<sqlalchemy.ext.automap.Favorite_Cuisines object at 0x0000026090CD0808>]\n"
     ]
    },
    {
     "name": "stderr",
     "output_type": "stream",
     "text": [
      "127.0.0.1 - - [13/Apr/2023 16:26:38] \"GET /votemexican HTTP/1.1\" 200 -\n"
     ]
    },
    {
     "name": "stdout",
     "output_type": "stream",
     "text": [
      "added mexican to db\n"
     ]
    },
    {
     "name": "stderr",
     "output_type": "stream",
     "text": [
      "127.0.0.1 - - [13/Apr/2023 16:26:39] \"GET /voteTot HTTP/1.1\" 200 -\n"
     ]
    },
    {
     "name": "stdout",
     "output_type": "stream",
     "text": [
      "pulling vote totals\n",
      "mexican\n",
      "8\n",
      "italian\n",
      "2\n",
      "thai\n",
      "1\n",
      "{'mexican': 8, 'italian': 2, 'thai': 1}\n",
      "pulled vote totals\n"
     ]
    },
    {
     "name": "stderr",
     "output_type": "stream",
     "text": [
      "127.0.0.1 - - [13/Apr/2023 16:26:39] \"GET /voteTot HTTP/1.1\" 200 -\n"
     ]
    },
    {
     "name": "stdout",
     "output_type": "stream",
     "text": [
      "pulling vote totals\n",
      "mexican\n",
      "8\n",
      "italian\n",
      "2\n",
      "thai\n",
      "1\n",
      "{'mexican': 8, 'italian': 2, 'thai': 1}\n",
      "pulled vote totals\n",
      "the vote is: mexican the type is: <class 'sqlalchemy.ext.automap.Favorite_Cuisines'>\n",
      "adding votes to db\n",
      "the vote is: mexican\n",
      "the len of tp is: 1\n",
      "looping through tp\n",
      "8\n",
      "9\n",
      "this is the result: [<sqlalchemy.ext.automap.Favorite_Cuisines object at 0x0000026090CD0A48>]\n"
     ]
    },
    {
     "name": "stderr",
     "output_type": "stream",
     "text": [
      "127.0.0.1 - - [13/Apr/2023 16:26:39] \"GET /votemexican HTTP/1.1\" 200 -\n"
     ]
    },
    {
     "name": "stdout",
     "output_type": "stream",
     "text": [
      "added mexican to db\n"
     ]
    },
    {
     "name": "stderr",
     "output_type": "stream",
     "text": [
      "127.0.0.1 - - [13/Apr/2023 16:26:41] \"GET /voteitalian HTTP/1.1\" 200 -\n"
     ]
    },
    {
     "name": "stdout",
     "output_type": "stream",
     "text": [
      "the vote is: italian the type is: <class 'sqlalchemy.ext.automap.Favorite_Cuisines'>\n",
      "adding votes to db\n",
      "the vote is: italian\n",
      "the len of tp is: 1\n",
      "looping through tp\n",
      "2\n",
      "3\n",
      "this is the result: [<sqlalchemy.ext.automap.Favorite_Cuisines object at 0x0000026090CD0048>]\n",
      "added italian to db\n"
     ]
    },
    {
     "name": "stderr",
     "output_type": "stream",
     "text": [
      "127.0.0.1 - - [13/Apr/2023 16:26:41] \"GET /voteTot HTTP/1.1\" 200 -\n"
     ]
    },
    {
     "name": "stdout",
     "output_type": "stream",
     "text": [
      "pulling vote totals\n",
      "mexican\n",
      "9\n",
      "italian\n",
      "3\n",
      "thai\n",
      "1\n",
      "{'mexican': 9, 'italian': 3, 'thai': 1}\n",
      "pulled vote totals\n"
     ]
    },
    {
     "name": "stderr",
     "output_type": "stream",
     "text": [
      "127.0.0.1 - - [13/Apr/2023 16:26:42] \"GET /voteTot HTTP/1.1\" 200 -\n"
     ]
    },
    {
     "name": "stdout",
     "output_type": "stream",
     "text": [
      "the vote is:pulling vote totals\n",
      " thai the type is: <class 'sqlalchemy.ext.automap.Favorite_Cuisines'>\n",
      "adding votes to dbmexican\n",
      "\n",
      "9\n",
      "italian\n",
      "3\n",
      "thai\n",
      "1\n",
      "the vote is: thai\n",
      "{'mexican': 9, 'italian': 3, 'thai': 1}\n",
      "pulled vote totals\n",
      "the len of tp is: 1\n",
      "looping through tp\n",
      "1\n",
      "2\n",
      "this is the result: [<sqlalchemy.ext.automap.Favorite_Cuisines object at 0x0000026090CD04C8>]\n"
     ]
    },
    {
     "name": "stderr",
     "output_type": "stream",
     "text": [
      "127.0.0.1 - - [13/Apr/2023 16:26:43] \"GET /votethai HTTP/1.1\" 200 -\n"
     ]
    },
    {
     "name": "stdout",
     "output_type": "stream",
     "text": [
      "added thai to db\n"
     ]
    },
    {
     "name": "stderr",
     "output_type": "stream",
     "text": [
      "127.0.0.1 - - [13/Apr/2023 16:26:46] \"GET /votethai HTTP/1.1\" 200 -\n"
     ]
    },
    {
     "name": "stdout",
     "output_type": "stream",
     "text": [
      "the vote is: thai the type is: <class 'sqlalchemy.ext.automap.Favorite_Cuisines'>\n",
      "adding votes to db\n",
      "the vote is: thai\n",
      "the len of tp is: 1\n",
      "looping through tp\n",
      "2\n",
      "3\n",
      "this is the result: [<sqlalchemy.ext.automap.Favorite_Cuisines object at 0x000002609062E088>]\n",
      "added thai to db\n"
     ]
    },
    {
     "name": "stderr",
     "output_type": "stream",
     "text": [
      "127.0.0.1 - - [13/Apr/2023 16:26:46] \"GET /voteTot HTTP/1.1\" 200 -\n"
     ]
    },
    {
     "name": "stdout",
     "output_type": "stream",
     "text": [
      "pulling vote totals\n",
      "mexican\n",
      "9\n",
      "italian\n",
      "3\n",
      "thai\n",
      "3\n",
      "{'mexican': 9, 'italian': 3, 'thai': 3}\n",
      "pulled vote totals\n"
     ]
    },
    {
     "name": "stderr",
     "output_type": "stream",
     "text": [
      "127.0.0.1 - - [13/Apr/2023 16:26:47] \"GET /voteTot HTTP/1.1\" 200 -\n"
     ]
    },
    {
     "name": "stdout",
     "output_type": "stream",
     "text": [
      "pulling vote totals\n",
      "the vote is: thai the type is: <class 'sqlalchemy.ext.automap.Favorite_Cuisines'>\n",
      "adding votes to db\n",
      "the vote is: thai\n",
      "mexican\n",
      "9\n",
      "italian\n",
      "3\n",
      "thai\n",
      "3\n",
      "{'mexican': 9, 'italian': 3, 'thai': 3}\n",
      "pulled vote totals\n",
      "the len of tp is: 1\n",
      "looping through tp\n",
      "3\n",
      "4\n",
      "this is the result: [<sqlalchemy.ext.automap.Favorite_Cuisines object at 0x0000026090C1A4C8>]\n"
     ]
    },
    {
     "name": "stderr",
     "output_type": "stream",
     "text": [
      "127.0.0.1 - - [13/Apr/2023 16:26:47] \"GET /votethai HTTP/1.1\" 200 -\n"
     ]
    },
    {
     "name": "stdout",
     "output_type": "stream",
     "text": [
      "added thai to db\n"
     ]
    },
    {
     "name": "stderr",
     "output_type": "stream",
     "text": [
      "127.0.0.1 - - [13/Apr/2023 16:26:51] \"GET / HTTP/1.1\" 200 -\n"
     ]
    },
    {
     "name": "stdout",
     "output_type": "stream",
     "text": [
      "adding votes to db\n",
      "the vote is: mexican\n",
      "the len of tp is: 1\n",
      "looping through tp\n",
      "9\n",
      "10\n",
      "this is the result: [<sqlalchemy.ext.automap.Favorite_Cuisines object at 0x000002609062EF88>]\n",
      "added mexican to db\n"
     ]
    },
    {
     "name": "stderr",
     "output_type": "stream",
     "text": [
      "127.0.0.1 - - [13/Apr/2023 16:26:54] \"GET /votethai HTTP/1.1\" 200 -\n"
     ]
    },
    {
     "name": "stdout",
     "output_type": "stream",
     "text": [
      "the vote is: thai the type is: <class 'sqlalchemy.ext.automap.Favorite_Cuisines'>\n",
      "adding votes to db\n",
      "the vote is: thai\n",
      "the len of tp is: 1\n",
      "looping through tp\n",
      "4\n",
      "5\n",
      "this is the result: [<sqlalchemy.ext.automap.Favorite_Cuisines object at 0x000002609062EAC8>]\n",
      "added thai to db\n"
     ]
    },
    {
     "name": "stderr",
     "output_type": "stream",
     "text": [
      "127.0.0.1 - - [13/Apr/2023 16:26:55] \"GET /voteTot HTTP/1.1\" 200 -\n"
     ]
    },
    {
     "name": "stdout",
     "output_type": "stream",
     "text": [
      "pulling vote totals\n",
      "mexican\n",
      "10\n",
      "italian\n",
      "3\n",
      "thai\n",
      "5\n",
      "{'mexican': 10, 'italian': 3, 'thai': 5}\n",
      "pulled vote totals\n"
     ]
    },
    {
     "name": "stderr",
     "output_type": "stream",
     "text": [
      "127.0.0.1 - - [13/Apr/2023 16:26:56] \"GET /voteTot HTTP/1.1\" 200 -\n"
     ]
    },
    {
     "name": "stdout",
     "output_type": "stream",
     "text": [
      "pulling vote totalsthe vote is:\n",
      " italian the type is: <class 'sqlalchemy.ext.automap.Favorite_Cuisines'>\n",
      "adding votes to db\n",
      "the vote is: italian\n",
      "mexican\n",
      "10\n",
      "italian\n",
      "3\n",
      "thai\n",
      "5\n",
      "{'mexican': 10, 'italian': 3, 'thai': 5}\n",
      "pulled vote totals\n",
      "the len of tp is: 1\n",
      "looping through tp\n",
      "3\n",
      "4\n",
      "this is the result: [<sqlalchemy.ext.automap.Favorite_Cuisines object at 0x0000026090CD8C48>]\n"
     ]
    },
    {
     "name": "stderr",
     "output_type": "stream",
     "text": [
      "127.0.0.1 - - [13/Apr/2023 16:26:56] \"GET /voteitalian HTTP/1.1\" 200 -\n"
     ]
    },
    {
     "name": "stdout",
     "output_type": "stream",
     "text": [
      "added italian to db\n"
     ]
    },
    {
     "name": "stderr",
     "output_type": "stream",
     "text": [
      "127.0.0.1 - - [13/Apr/2023 16:27:01] \"GET /voteitalian HTTP/1.1\" 200 -\n"
     ]
    },
    {
     "name": "stdout",
     "output_type": "stream",
     "text": [
      "the vote is: italian the type is: <class 'sqlalchemy.ext.automap.Favorite_Cuisines'>\n",
      "adding votes to db\n",
      "the vote is: italian\n",
      "the len of tp is: 1\n",
      "looping through tp\n",
      "4\n",
      "5\n",
      "this is the result: [<sqlalchemy.ext.automap.Favorite_Cuisines object at 0x000002609062E708>]\n",
      "added italian to db\n"
     ]
    },
    {
     "name": "stderr",
     "output_type": "stream",
     "text": [
      "127.0.0.1 - - [13/Apr/2023 16:27:01] \"GET /voteTot HTTP/1.1\" 200 -\n"
     ]
    },
    {
     "name": "stdout",
     "output_type": "stream",
     "text": [
      "pulling vote totals\n",
      "mexican\n",
      "10\n",
      "italian\n",
      "5\n",
      "thai\n",
      "5\n",
      "{'mexican': 10, 'italian': 5, 'thai': 5}\n",
      "pulled vote totals\n"
     ]
    },
    {
     "name": "stderr",
     "output_type": "stream",
     "text": [
      "127.0.0.1 - - [13/Apr/2023 16:27:04] \"GET /voteTot HTTP/1.1\" 200 -\n"
     ]
    },
    {
     "name": "stdout",
     "output_type": "stream",
     "text": [
      "pulling vote totalsthe vote is: thai the type is: <class 'sqlalchemy.ext.automap.Favorite_Cuisines'>\n",
      "adding votes to db\n",
      "\n",
      "the vote is: thai\n",
      "mexicanthe len of tp is:\n",
      "10\n",
      "italian\n",
      "5\n",
      "thai\n",
      "5\n",
      " {'mexican': 10, 'italian': 5, 'thai': 5}\n",
      "pulled vote totals\n",
      "1\n",
      "looping through tp\n",
      "5\n",
      "6\n",
      "this is the result: [<sqlalchemy.ext.automap.Favorite_Cuisines object at 0x0000026090C1A9C8>]\n"
     ]
    },
    {
     "name": "stderr",
     "output_type": "stream",
     "text": [
      "127.0.0.1 - - [13/Apr/2023 16:27:04] \"GET /votethai HTTP/1.1\" 200 -\n"
     ]
    },
    {
     "name": "stdout",
     "output_type": "stream",
     "text": [
      "added thai to db\n"
     ]
    },
    {
     "name": "stderr",
     "output_type": "stream",
     "text": [
      "127.0.0.1 - - [13/Apr/2023 16:27:09] \"GET /votethai HTTP/1.1\" 200 -\n"
     ]
    },
    {
     "name": "stdout",
     "output_type": "stream",
     "text": [
      "the vote is: thai the type is: <class 'sqlalchemy.ext.automap.Favorite_Cuisines'>\n",
      "adding votes to db\n",
      "the vote is: thai\n",
      "the len of tp is: 1\n",
      "looping through tp\n",
      "6\n",
      "7\n",
      "this is the result: [<sqlalchemy.ext.automap.Favorite_Cuisines object at 0x000002609062B848>]\n",
      "added thai to db\n"
     ]
    },
    {
     "name": "stderr",
     "output_type": "stream",
     "text": [
      "127.0.0.1 - - [13/Apr/2023 16:27:09] \"GET /voteTot HTTP/1.1\" 200 -\n"
     ]
    },
    {
     "name": "stdout",
     "output_type": "stream",
     "text": [
      "pulling vote totals\n",
      "mexican\n",
      "10\n",
      "italian\n",
      "5\n",
      "thai\n",
      "7\n",
      "{'mexican': 10, 'italian': 5, 'thai': 7}\n",
      "pulled vote totals\n"
     ]
    },
    {
     "name": "stderr",
     "output_type": "stream",
     "text": [
      "127.0.0.1 - - [13/Apr/2023 16:27:10] \"GET /voteTot HTTP/1.1\" 200 -\n"
     ]
    },
    {
     "name": "stdout",
     "output_type": "stream",
     "text": [
      "pulling vote totalsthe vote is: italian \n",
      "the type is: <class 'sqlalchemy.ext.automap.Favorite_Cuisines'>\n",
      "adding votes to db\n",
      "the vote is: italian\n",
      "mexican\n",
      "10\n",
      "italian\n",
      "5\n",
      "thai\n",
      "7\n",
      "{'mexican': 10, 'italian': 5, 'thai': 7}\n",
      "pulled vote totals\n",
      "the len of tp is: 1\n",
      "looping through tp\n",
      "5\n",
      "6\n",
      "this is the result: [<sqlalchemy.ext.automap.Favorite_Cuisines object at 0x0000026090C1A888>]\n"
     ]
    },
    {
     "name": "stderr",
     "output_type": "stream",
     "text": [
      "127.0.0.1 - - [13/Apr/2023 16:27:10] \"GET /voteitalian HTTP/1.1\" 200 -\n"
     ]
    },
    {
     "name": "stdout",
     "output_type": "stream",
     "text": [
      "added italian to db\n"
     ]
    }
   ],
   "source": [
    "app = Flask(__name__)\n",
    "CORS(app,resources={r\"/*\": {\"origins\": [\"http://127.0.0.1:5000\"]}})\n",
    "with open(\"../restaurant_data.json\", 'r') as file:\n",
    "    data = json.load(file)\n",
    "\n",
    "engine = create_engine(\"sqlite:///Resources/votes.sqlite\")\n",
    "base = automap_base()\n",
    "base.prepare(autoload_with=engine)\n",
    "# inspector = inspect(engine)\n",
    "# print(inspector.get_table_names())\n",
    "types = base.classes.Favorite_Cuisines\n",
    "# print(f\"Reflected table name: {types.__table__.name}\")\n",
    "# print(f\"Columns: {types.__table__.columns}\")\n",
    "Session = sessionmaker(bind=engine)\n",
    "session = Session()\n",
    "# session.add(types(restaurant_type = \"mexican\", votes_cast = 0))\n",
    "# session.add(types(restaurant_type = \"italian\", votes_cast = 0))\n",
    "# session.add(types(restaurant_type = \"thai\", votes_cast = 0))\n",
    "# session.commit()\n",
    "testq = session.query(types).all()\n",
    "print([i.votes_cast for i in testq if True])\n",
    "session.close()\n",
    "\n",
    "def pull_vote_totals():\n",
    "    session = Session()\n",
    "    boop = session.query(types).all()\n",
    "    democracy = {\"mexican\":0, \"italian\": 0, \"thai\":0}\n",
    "    \n",
    "    for i in boop:\n",
    "        print(i.restaurant_type)\n",
    "        democracy[i.restaurant_type] = i.votes_cast   \n",
    "        print(i.votes_cast) \n",
    "    session.close()\n",
    "    print(democracy)\n",
    "    return democracy\n",
    "    \n",
    "\n",
    "def add_vote_to_db(vote,types):\n",
    "    session = Session()\n",
    "    tp = session.query(types).filter(types.restaurant_type == vote).first()\n",
    "    # for t in tp:\n",
    "        # t.votes_cast += 1\n",
    "    tp.votes_cast += 1\n",
    "    session.commit()\n",
    "    session.close()\n",
    "    return json.dumps(\"vote added to db\")\n",
    "    \n",
    "\n",
    "@app.route(\"/\")\n",
    "def home():\n",
    "    return render_template('index.html')\n",
    "\n",
    "@app.route(\"/map\")\n",
    "def dontwait():\n",
    "    return render_template('map.html')\n",
    "\n",
    "@app.route(\"/chart\")\n",
    "def justkiddingyoucanwait():\n",
    "    return render_template('chart.html')\n",
    "\n",
    "@app.route(\"/btc\")\n",
    "def nvm():\n",
    "    return render_template('btc.html')\n",
    "\n",
    "@app.route(\"/vote<vote>\")\n",
    "def noway(vote):\n",
    "    add_vote_to_db(vote,types)\n",
    "    return vote\n",
    "    \n",
    "@app.route(\"/voteTot\")\n",
    "def jose():\n",
    "    voteTots = pull_vote_totals()\n",
    "    return json.dumps(voteTots)\n",
    "\n",
    "@app.route(\"/data\")\n",
    "def josephine():\n",
    "    return json.dumps(data)\n",
    "\n",
    "\n",
    "if(__name__==\"__main__\"):\n",
    "    app.run()"
   ]
  }
 ],
 "metadata": {
  "kernelspec": {
   "display_name": "PythonData",
   "language": "python",
   "name": "python3"
  },
  "language_info": {
   "codemirror_mode": {
    "name": "ipython",
    "version": 3
   },
   "file_extension": ".py",
   "mimetype": "text/x-python",
   "name": "python",
   "nbconvert_exporter": "python",
   "pygments_lexer": "ipython3",
   "version": "3.7.7"
  },
  "orig_nbformat": 4
 },
 "nbformat": 4,
 "nbformat_minor": 2
}
