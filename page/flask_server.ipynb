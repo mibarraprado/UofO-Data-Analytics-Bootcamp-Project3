{
 "cells": [
  {
   "cell_type": "code",
   "execution_count": 1,
   "metadata": {},
   "outputs": [],
   "source": [
    "from flask import Flask,jsonify,render_template\n",
    "from flask_cors import CORS\n",
    "import json\n",
    "import pandas as pd\n",
    "import sqlalchemy\n",
    "from sqlalchemy.ext.automap import automap_base\n",
    "from sqlalchemy.orm import Session\n",
    "from sqlalchemy import create_engine, func, inspect\n",
    "import datetime as dt"
   ]
  },
  {
   "cell_type": "markdown",
   "metadata": {},
   "source": [
    "make flask server and do sql stuff"
   ]
  },
  {
   "cell_type": "code",
   "execution_count": 5,
   "metadata": {},
   "outputs": [
    {
     "name": "stdout",
     "output_type": "stream",
     "text": [
      " * Serving Flask app '__main__'\n",
      " * Debug mode: off\n"
     ]
    },
    {
     "name": "stderr",
     "output_type": "stream",
     "text": [
      "WARNING: This is a development server. Do not use it in a production deployment. Use a production WSGI server instead.\n",
      " * Running on http://127.0.0.1:5000\n",
      "Press CTRL+C to quit\n",
      "127.0.0.1 - - [12/Apr/2023 21:01:44] \"GET / HTTP/1.1\" 200 -\n",
      "127.0.0.1 - - [12/Apr/2023 21:01:48] \"GET /vote%22Mexican%22 HTTP/1.1\" 200 -\n"
     ]
    },
    {
     "name": "stdout",
     "output_type": "stream",
     "text": [
      "added \"Mexican\" to db\n"
     ]
    },
    {
     "name": "stderr",
     "output_type": "stream",
     "text": [
      "[2023-04-12 21:01:48,524] ERROR in app: Exception on /voteTot [GET]\n",
      "Traceback (most recent call last):\n",
      "  File \"g:\\programs\\Anaconda\\envs\\PythonData\\lib\\site-packages\\sqlalchemy\\util\\_collections.py\", line 186, in __getattr__\n",
      "    return self._data[key]\n",
      "KeyError: 'Favorite_Cuisines'\n",
      "\n",
      "During handling of the above exception, another exception occurred:\n",
      "\n",
      "Traceback (most recent call last):\n",
      "  File \"g:\\programs\\Anaconda\\envs\\PythonData\\lib\\site-packages\\flask\\app.py\", line 2528, in wsgi_app\n",
      "    response = self.full_dispatch_request()\n",
      "  File \"g:\\programs\\Anaconda\\envs\\PythonData\\lib\\site-packages\\flask\\app.py\", line 1825, in full_dispatch_request\n",
      "    rv = self.handle_user_exception(e)\n",
      "  File \"g:\\programs\\Anaconda\\envs\\PythonData\\lib\\site-packages\\flask_cors\\extension.py\", line 165, in wrapped_function\n",
      "    return cors_after_request(app.make_response(f(*args, **kwargs)))\n",
      "  File \"g:\\programs\\Anaconda\\envs\\PythonData\\lib\\site-packages\\flask\\app.py\", line 1823, in full_dispatch_request\n",
      "    rv = self.dispatch_request()\n",
      "  File \"g:\\programs\\Anaconda\\envs\\PythonData\\lib\\site-packages\\flask\\app.py\", line 1799, in dispatch_request\n",
      "    return self.ensure_sync(self.view_functions[rule.endpoint])(**view_args)\n",
      "  File \"C:\\Users\\ddram\\AppData\\Local\\Temp\\ipykernel_17276\\1072529632.py\", line 66, in jose\n",
      "    voteTots = pull_vote_totals()\n",
      "  File \"C:\\Users\\ddram\\AppData\\Local\\Temp\\ipykernel_17276\\1072529632.py\", line 16, in pull_vote_totals\n",
      "    types = base.classes.Favorite_Cuisines\n",
      "  File \"g:\\programs\\Anaconda\\envs\\PythonData\\lib\\site-packages\\sqlalchemy\\util\\_collections.py\", line 188, in __getattr__\n",
      "    raise AttributeError(key)\n",
      "AttributeError: Favorite_Cuisines\n",
      "127.0.0.1 - - [12/Apr/2023 21:01:48] \"GET /voteTot HTTP/1.1\" 500 -\n"
     ]
    },
    {
     "name": "stdout",
     "output_type": "stream",
     "text": [
      "['Favorite Cuisines']\n"
     ]
    }
   ],
   "source": [
    "app = Flask(__name__)\n",
    "CORS(app)\n",
    "with open(\"../restaurant_data.json\", 'r') as file:\n",
    "    data = json.load(file)\n",
    "\n",
    "restaurnt_df = pd.DataFrame(data)\n",
    "\n",
    "def pull_vote_totals():\n",
    "    engine = create_engine(\"sqlite:///Resources/votes.sqlite\")\n",
    "    base = automap_base()\n",
    "    base.prepare(autoload_with=engine)\n",
    "    session = Session(bind=engine)\n",
    "    inspector = inspect(engine)\n",
    "    print(inspector.get_table_names())\n",
    "     \n",
    "    types = base.classes.Favorite_Cuisines\n",
    "    \n",
    "    # mex = session.query(types).filter(types.restaurant_type == \"mexican\")\n",
    "    # ita = session.query(types).filter(types.restaurant_type == \"italian\")\n",
    "    # thai = session.query(types).filter(types.restaurant_type == \"thai\")\n",
    "\n",
    "    # print(mex)\n",
    "    \n",
    "    return {\"mexican\": 10,\n",
    "            \"italian\": 2,\n",
    "            \"thai\": 85000}\n",
    "    # return {\"mexican\": mex,\n",
    "    #         \"italian\": ita,\n",
    "    #         \"thai\": thai}\n",
    "\n",
    "def add_vote_to_db(vote):\n",
    "    # session = Session(bind=engine)\n",
    "    # session.update({vote: vote+1}) #not how it wokrs but i cant be bothered rn\n",
    "    print(f\"added {vote} to db\")\n",
    "    \n",
    "#--SQL STUFF\n",
    "engine = create_engine(\"sqlite:///Resources/votes.sqlite\")\n",
    "# base = automap_base()\n",
    "# base.prepare(autoload_with=engine)\n",
    "\n",
    "#-- \n",
    "\n",
    "@app.route(\"/\")\n",
    "def home():\n",
    "    return render_template('index.html')\n",
    "\n",
    "@app.route(\"/map\")\n",
    "def dontwait():\n",
    "    return render_template('map.html')\n",
    "\n",
    "@app.route(\"/chart\")\n",
    "def justkiddingyoucanwait():\n",
    "    return render_template('chart.html')\n",
    "\n",
    "@app.route(\"/btc\")\n",
    "def nvm():\n",
    "    return render_template('btc.html')\n",
    "\n",
    "@app.route(\"/vote<vote>\")\n",
    "def noway(vote):\n",
    "    add_vote_to_db(vote)\n",
    "    return vote\n",
    "    \n",
    "@app.route(\"/voteTot\")\n",
    "def jose():\n",
    "    voteTots = pull_vote_totals()\n",
    "    \n",
    "    return json.dumps(voteTots)\n",
    "\n",
    "\n",
    "\n",
    "if(__name__==\"__main__\"):\n",
    "    app.run()"
   ]
  }
 ],
 "metadata": {
  "kernelspec": {
   "display_name": "PythonData",
   "language": "python",
   "name": "python3"
  },
  "language_info": {
   "codemirror_mode": {
    "name": "ipython",
    "version": 3
   },
   "file_extension": ".py",
   "mimetype": "text/x-python",
   "name": "python",
   "nbconvert_exporter": "python",
   "pygments_lexer": "ipython3",
   "version": "3.7.7"
  },
  "orig_nbformat": 4
 },
 "nbformat": 4,
 "nbformat_minor": 2
}
